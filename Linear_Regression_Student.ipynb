{
 "cells": [
  {
   "cell_type": "markdown",
   "metadata": {},
   "source": [
    "# Basic Linear Regression\n",
    "\n",
    "In this Jupyter Notebook document, everytime you see `#To be completed`, you have to write a piece of code to advance in the exercise.\n",
    "\n",
    "The objective of this exercise is to compute the model from the following data using least square linear regression.\n",
    "\n",
    "Data:\n",
    "\n",
    "| i | 1 | 2 | 3 | 4 | 5 | 6 | 7 |\n",
    "| --- | --- | --- | --- | --- | --- | --- | --- |\n",
    "| X (Input) | -2 | -1 | 0 | 1 | 2 | 3 | 4 |\n",
    "| Y (Output) | -5 | -3 | -1 | 1 | 3 | 5 | 7 |\n",
    "\n",
    "## Numerical least square resolution\n",
    "\n",
    "The estimated function $\\widehat{f(X)}$ is:\n",
    "\n",
    "$\\widehat{f(X)}=\\widehat{\\alpha}X+\\widehat{\\beta}$\n",
    "\n",
    "$\\widehat{\\alpha}=\\frac{\\sum_{i=1}^{n} X_i y_i - n\\bar{X}\\bar{y}}{\\sum_{i=1}^{n} X_i^2 - n\\bar{X}^2}$\n",
    "\n",
    "$\\widehat{\\beta}=\\bar{y}-\\widehat{\\alpha}\\bar{X}$\n",
    "\n",
    "Go on and calculate the estimated function !"
   ]
  },
  {
   "cell_type": "code",
   "execution_count": 73,
   "metadata": {},
   "outputs": [],
   "source": [
    "from numpy import mean\n",
    "X=[-2,-1,0,1,2,3,4]\n",
    "y=[-5,-3,-1,1,3,5,7]\n",
    "def listElementwiseMult(lista,listb):\n",
    "    return [a*b for a,b in zip(lista,listb)]"
   ]
  },
  {
   "cell_type": "code",
   "execution_count": 74,
   "metadata": {},
   "outputs": [
    {
     "data": {
      "text/plain": [
       "2.0"
      ]
     },
     "execution_count": 74,
     "metadata": {},
     "output_type": "execute_result"
    }
   ],
   "source": [
    "#alpha computation\n",
    "SumXy=sum(listElementwiseMult(X,y))\n",
    "SumXsquared=sum(listElementwiseMult(X,X))\n",
    "meanX=mean(X)\n",
    "meany=mean(y)\n",
    "n=len(X)\n",
    "alpha=((SumXy)-n*(mean(X)*mean(y)))/((SumXsquared)-(n*mean(X)*mean(y)))\n",
    "\n",
    "#Check result here\n",
    "alpha"
   ]
  },
  {
   "cell_type": "code",
   "execution_count": 75,
   "metadata": {},
   "outputs": [
    {
     "data": {
      "text/plain": [
       "-1.0"
      ]
     },
     "execution_count": 75,
     "metadata": {},
     "output_type": "execute_result"
    }
   ],
   "source": [
    "#beta computation\n",
    "\n",
    "beta=mean(y)-alpha*mean(X)\n",
    "\n",
    "#Check result here\n",
    "beta"
   ]
  },
  {
   "cell_type": "markdown",
   "metadata": {},
   "source": [
    "Verify if you can predict the value for 11"
   ]
  },
  {
   "cell_type": "code",
   "execution_count": 76,
   "metadata": {},
   "outputs": [
    {
     "data": {
      "text/plain": [
       "19.0"
      ]
     },
     "execution_count": 76,
     "metadata": {},
     "output_type": "execute_result"
    }
   ],
   "source": [
    "def estimate_function(X):\n",
    "    return alpha*X + beta\n",
    "\n",
    "#Try and see what you can estimate\n",
    "estimate_function(10)"
   ]
  },
  {
   "cell_type": "markdown",
   "metadata": {},
   "source": [
    "## Scikit-learn resolution\n",
    "\n",
    "Now the goal is to perform the same resolution but to obtain it via the sci-kit learn library.\n",
    "Therefore, we are going to use the `LinearRegression()` module from the library `sklearn.linear_model`.\n",
    "\n",
    "`LinearRegression()` is a Python class that allows you to perform an ordinary least squares Linear Regression.\n",
    "It has some options `LinearRegression(fit_intercept=True, normalize=False, copy_X=True, n_jobs=None)`:\n",
    "- *fit_intercept* default value is True. If set to False the intercept value that we call here $\\widehat{\\beta}$ would be 0.\n",
    "- *normalize* default value is False. If set to True, X will be normalized before regression, which means that X will be a vector of norm 1.\n",
    "- *copy_X* default value is True. If set to False, operations are performed on X and might change it.\n",
    "- *n_jobs* default value is None, which actually is translated to 1. If required, you can set a different value which would allocate a number of thread (parallel computing) to the learning process.\n",
    "\n",
    "The model is saved inside `LinearRegression()` and you can calculate the values for the model using the method `.fit(X, y)`.\n",
    "\n",
    "Here `X` represents the training data. It has the size `(n_samples,n_features)`, with `n_samples` the number of sample data and `n_features` the number of different features you are working from. In this first class, the number of features will be just 1 and multiple features will be seen in the next course talking about linear regression with multiple variables. So `n_features`=1.\n",
    "\n",
    "`y` represents the target values according to `X`. It has the size `(n_samples,)`.\n",
    "\n",
    "Now let's try to fit a `LinearRegression()` model !"
   ]
  },
  {
   "cell_type": "code",
   "execution_count": 77,
   "metadata": {},
   "outputs": [],
   "source": [
    "from sklearn.linear_model import LinearRegression\n",
    "import numpy as np\n",
    "\n",
    "X=[-2,-1,0,1,2,3,4]\n",
    "y=[-5,-3,-1,1,3,5,7]\n",
    "\n",
    "X_train=np.array(X).reshape(-1,1) #array(list).reshape(-1,1)  to convert the data values \n",
    "y_train=np.array(y).reshape(-1,1)\n",
    "regr = LinearRegression().fit(X_train, y_train)"
   ]
  },
  {
   "cell_type": "markdown",
   "metadata": {},
   "source": [
    "The values that were estimated from that model can then be accessed using `.coef_` and `.intercept_`.\n",
    "\n",
    "`.coef_` is an array of the estimated coefficients for the linear regression problem. It is of shape `(n_features, )`, so in our case it will be of shape  `(1, )`. ($\\widehat{\\alpha}$)\n",
    "\n",
    "`.intercept_` is a float that gives the independent term of the linear model. ($\\widehat{\\beta}$)"
   ]
  },
  {
   "cell_type": "code",
   "execution_count": 78,
   "metadata": {},
   "outputs": [
    {
     "name": "stdout",
     "output_type": "stream",
     "text": [
      "Estimated equation is: (alpha  2.0 ) X + (beta  -1.0 )\n"
     ]
    }
   ],
   "source": [
    "# The estimated equation coefficients\n",
    "print('Estimated equation is: (alpha ',regr.coef_[0,0],') X + (beta ',regr.intercept_[0],')')"
   ]
  },
  {
   "cell_type": "markdown",
   "metadata": {},
   "source": [
    "## Congratulations ! your model has learned.\n",
    "\n",
    "Now let's try to predict some values from that `regr` model that we have computed. Therefore we create some testing values continuing our original serie.\n",
    "\n",
    "`LinearRegression()` has a method called `.predict(test_values)`, that requires some `test_values` that we will provide and allows you to predict the target values `y`.\n",
    "\n",
    "Here `X_test` is an array of the next numbers of the serie X, which will be used for the prediction, `y_test` is an array of the actual values we know from that serie that we want to compare to the predicted values and `y_pred` will be the predicted values from our model."
   ]
  },
  {
   "cell_type": "code",
   "execution_count": 79,
   "metadata": {},
   "outputs": [
    {
     "data": {
      "text/plain": [
       "array([[ 9.],\n",
       "       [11.],\n",
       "       [13.],\n",
       "       [15.]])"
      ]
     },
     "execution_count": 79,
     "metadata": {},
     "output_type": "execute_result"
    }
   ],
   "source": [
    "A=[5,6,7,8]\n",
    "B=[9,11,13,15]\n",
    "X_test=np.array(A).reshape(-1,1)\n",
    "y_test=np.array(B).reshape(-1,1)\n",
    "#  #\n",
    "y_pred=regr.predict(X_test)\n",
    "y_pred\n",
    "# ON VA MAINTENANT tester DE COMPARER :\n",
    "# [Y_TEST] => (known test values) & [Y_PRED] => (predicted values)"
   ]
  },
  {
   "cell_type": "markdown",
   "metadata": {},
   "source": [
    "To analyse the result you can use some metrics from the library `sklearn.metrics`\n",
    "\n",
    "This library gives you access to two values, the `mean_squared_error` which is: $\\frac{1}{n}\\sum_{i=1}^n(y_i-\\widehat{y_i})^2$.\n",
    "\n",
    "And the coefficient of determination ($R^2$ score), which you all know from Excel, here `r2_score`, which is $R^2(y, \\widehat{y}) = 1 - \\frac{\\sum_{i=1}^{n} (y_i - \\widehat{y}_i)^2}{\\sum_{i=1}^{n} (y_i - \\bar{y})^2}$"
   ]
  },
  {
   "cell_type": "code",
   "execution_count": 80,
   "metadata": {},
   "outputs": [
    {
     "name": "stdout",
     "output_type": "stream",
     "text": [
      "Mean squared error: 0.00\n",
      "Coefficient of determination: 1.00\n"
     ]
    }
   ],
   "source": [
    "from sklearn.metrics import mean_squared_error, r2_score\n",
    "\n",
    "# The mean squared error\n",
    "print('Mean squared error: %.2f'\n",
    "      % mean_squared_error(y_test, y_pred))\n",
    "\n",
    "# The coefficient of determination: 1 is perfect prediction\n",
    "print('Coefficient of determination: %.2f'\n",
    "      % r2_score(y_test, y_pred))"
   ]
  },
  {
   "cell_type": "markdown",
   "metadata": {},
   "source": [
    "## Your results\n",
    "\n",
    "This part will show you the result you had with the predicted model as a blue line and the test data in a black scatter plot. It uses the library `matplotlib` to do so."
   ]
  },
  {
   "cell_type": "code",
   "execution_count": 81,
   "metadata": {},
   "outputs": [
    {
     "data": {
      "image/png": "[encoded data removed]",
      "text/plain": [
       "<Figure size 432x288 with 1 Axes>"
      ]
     },
     "metadata": {
      "needs_background": "light"
     },
     "output_type": "display_data"
    }
   ],
   "source": [
    "import matplotlib.pyplot as plt\n",
    "\n",
    "plt.scatter(np.append(X_train,X_test), np.append(y_train,y_test),  color='black', label=\"Test data\")\n",
    "plt.plot(np.append(X_train,X_test), np.append(y_train,y_pred), color='blue', linewidth=3, label=\"Predicted Model\")\n",
    "plt.legend()\n",
    "\n",
    "plt.show()"
   ]
  },
  {
   "cell_type": "markdown",
   "metadata": {},
   "source": [
    "# Another example of linear regression\n",
    "\n",
    "We will use the Cardekho dataset.\n",
    "This dataset contains information about used cars listed on www.cardekho.com (an indian website) that are available for selling.\n",
    "The goal here is to find linear regression coefficients between different part of that dataset.\n",
    "\n",
    "columns of that dataset are:\n",
    "- *Car_Name* The Name of the car\n",
    "- *Year* The release year of that car (Year it was bought for the first time)\n",
    "- *Selling_Price* The price it is sold\n",
    "- *Km_driven* The kms driven with the car\n",
    "- *Fuel* The type of fuel: Diesel, Petrol, Liquefied Petroleum Gas (LPG) or Compressed Natural Gas (CNG)\n",
    "- *Seller_type* The type of seller that proposes the car: individual, car dealer or trustmark dealer\n",
    "- *Transmission* Manual or Automatic\n",
    "- *Owner* Number of previous owner\n",
    "- *mileage* Consumption in km per l\n",
    "- *engine* Dimension of the engine\n",
    "- *max_power* Maximum power\n",
    "- *Torque* Torque of the car\n",
    "- *Seats* Number of seats"
   ]
  },
  {
   "cell_type": "code",
   "execution_count": 82,
   "metadata": {},
   "outputs": [
    {
     "data": {
      "text/html": [
       "<div>\n",
       "<style scoped>\n",
       "    .dataframe tbody tr th:only-of-type {\n",
       "        vertical-align: middle;\n",
       "    }\n",
       "\n",
       "    .dataframe tbody tr th {\n",
       "        vertical-align: top;\n",
       "    }\n",
       "\n",
       "    .dataframe thead th {\n",
       "        text-align: right;\n",
       "    }\n",
       "</style>\n",
       "<table border=\"1\" class=\"dataframe\">\n",
       "  <thead>\n",
       "    <tr style=\"text-align: right;\">\n",
       "      <th></th>\n",
       "      <th>Car_Name</th>\n",
       "      <th>Year</th>\n",
       "      <th>Selling_price</th>\n",
       "      <th>Km_driven</th>\n",
       "      <th>Fuel</th>\n",
       "      <th>Seller_type</th>\n",
       "      <th>Transmission</th>\n",
       "      <th>Owner</th>\n",
       "      <th>mileage</th>\n",
       "      <th>engine</th>\n",
       "      <th>max_power</th>\n",
       "      <th>torque</th>\n",
       "      <th>seats</th>\n",
       "    </tr>\n",
       "  </thead>\n",
       "  <tbody>\n",
       "    <tr>\n",
       "      <th>0</th>\n",
       "      <td>Maruti Swift Dzire VDI</td>\n",
       "      <td>2014</td>\n",
       "      <td>5850.0</td>\n",
       "      <td>145500</td>\n",
       "      <td>Diesel</td>\n",
       "      <td>Individual</td>\n",
       "      <td>Manual</td>\n",
       "      <td>First Owner</td>\n",
       "      <td>23.4 kmpl</td>\n",
       "      <td>1248 CC</td>\n",
       "      <td>74 bhp</td>\n",
       "      <td>190Nm@ 2000rpm</td>\n",
       "      <td>5.0</td>\n",
       "    </tr>\n",
       "    <tr>\n",
       "      <th>1</th>\n",
       "      <td>Skoda Rapid 1.5 TDI Ambition</td>\n",
       "      <td>2014</td>\n",
       "      <td>4810.0</td>\n",
       "      <td>120000</td>\n",
       "      <td>Diesel</td>\n",
       "      <td>Individual</td>\n",
       "      <td>Manual</td>\n",
       "      <td>Second Owner</td>\n",
       "      <td>21.14 kmpl</td>\n",
       "      <td>1498 CC</td>\n",
       "      <td>103.52 bhp</td>\n",
       "      <td>250Nm@ 1500-2500rpm</td>\n",
       "      <td>5.0</td>\n",
       "    </tr>\n",
       "    <tr>\n",
       "      <th>2</th>\n",
       "      <td>Honda City 2017-2020 EXi</td>\n",
       "      <td>2006</td>\n",
       "      <td>2054.0</td>\n",
       "      <td>140000</td>\n",
       "      <td>Petrol</td>\n",
       "      <td>Individual</td>\n",
       "      <td>Manual</td>\n",
       "      <td>Third Owner</td>\n",
       "      <td>17.7 kmpl</td>\n",
       "      <td>1497 CC</td>\n",
       "      <td>78 bhp</td>\n",
       "      <td>12.7@ 2,700(kgm@ rpm)</td>\n",
       "      <td>5.0</td>\n",
       "    </tr>\n",
       "    <tr>\n",
       "      <th>3</th>\n",
       "      <td>Hyundai i20 Sportz Diesel</td>\n",
       "      <td>2010</td>\n",
       "      <td>2925.0</td>\n",
       "      <td>127000</td>\n",
       "      <td>Diesel</td>\n",
       "      <td>Individual</td>\n",
       "      <td>Manual</td>\n",
       "      <td>First Owner</td>\n",
       "      <td>23.0 kmpl</td>\n",
       "      <td>1396 CC</td>\n",
       "      <td>90 bhp</td>\n",
       "      <td>22.4 kgm at 1750-2750rpm</td>\n",
       "      <td>5.0</td>\n",
       "    </tr>\n",
       "    <tr>\n",
       "      <th>4</th>\n",
       "      <td>Maruti Swift VXI BSIII</td>\n",
       "      <td>2007</td>\n",
       "      <td>1690.0</td>\n",
       "      <td>120000</td>\n",
       "      <td>Petrol</td>\n",
       "      <td>Individual</td>\n",
       "      <td>Manual</td>\n",
       "      <td>First Owner</td>\n",
       "      <td>16.1 kmpl</td>\n",
       "      <td>1298 CC</td>\n",
       "      <td>88.2 bhp</td>\n",
       "      <td>11.5@ 4,500(kgm@ rpm)</td>\n",
       "      <td>5.0</td>\n",
       "    </tr>\n",
       "  </tbody>\n",
       "</table>\n",
       "</div>"
      ],
      "text/plain": [
       "                       Car_Name  Year  Selling_price  Km_driven    Fuel  \\\n",
       "0        Maruti Swift Dzire VDI  2014         5850.0     145500  Diesel   \n",
       "1  Skoda Rapid 1.5 TDI Ambition  2014         4810.0     120000  Diesel   \n",
       "2      Honda City 2017-2020 EXi  2006         2054.0     140000  Petrol   \n",
       "3     Hyundai i20 Sportz Diesel  2010         2925.0     127000  Diesel   \n",
       "4        Maruti Swift VXI BSIII  2007         1690.0     120000  Petrol   \n",
       "\n",
       "  Seller_type Transmission         Owner     mileage   engine   max_power  \\\n",
       "0  Individual       Manual   First Owner   23.4 kmpl  1248 CC      74 bhp   \n",
       "1  Individual       Manual  Second Owner  21.14 kmpl  1498 CC  103.52 bhp   \n",
       "2  Individual       Manual   Third Owner   17.7 kmpl  1497 CC      78 bhp   \n",
       "3  Individual       Manual   First Owner   23.0 kmpl  1396 CC      90 bhp   \n",
       "4  Individual       Manual   First Owner   16.1 kmpl  1298 CC    88.2 bhp   \n",
       "\n",
       "                     torque  seats  \n",
       "0            190Nm@ 2000rpm    5.0  \n",
       "1       250Nm@ 1500-2500rpm    5.0  \n",
       "2     12.7@ 2,700(kgm@ rpm)    5.0  \n",
       "3  22.4 kgm at 1750-2750rpm    5.0  \n",
       "4     11.5@ 4,500(kgm@ rpm)    5.0  "
      ]
     },
     "execution_count": 82,
     "metadata": {},
     "output_type": "execute_result"
    }
   ],
   "source": [
    "import pandas as pd\n",
    "pd.set_option(\"display.max_rows\", 16)\n",
    "\n",
    "# LOADING THE DATASET\n",
    "# THE DATASET SHOULD BE ALONG WITH THE NOTEBOOK AND THE PYTHON FILE\n",
    "\n",
    "df = pd.read_csv('Cardekho.csv')\n",
    "df['Selling_price']=0.013*df['Selling_price'] # Change the values from Indian Roupies to Us Dollar\n",
    "df.head()"
   ]
  },
  {
   "cell_type": "code",
   "execution_count": 83,
   "metadata": {
    "scrolled": true
   },
   "outputs": [
    {
     "data": {
      "image/png": "[encoded data removed]",
      "text/plain": [
       "<Figure size 432x288 with 1 Axes>"
      ]
     },
     "metadata": {
      "needs_background": "light"
     },
     "output_type": "display_data"
    }
   ],
   "source": [
    "plt.scatter(df['Km_driven'],df['Selling_price'],  color='lightblue', label=\"Test data\")\n",
    "plt.legend()\n",
    "plt.xlabel(\"km driven\")\n",
    "plt.ylabel(\"Selling price ($)\")\n",
    "plt.show()"
   ]
  },
  {
   "cell_type": "markdown",
   "metadata": {},
   "source": [
    "## First exercise\n",
    "\n",
    "The goal is to find the relationship between the *selling price* of the car and the *km it was driven* and then to analyze the result.\n",
    "\n",
    "We will try to estimate the price of a car according to the km it has driven and to find the general relationship."
   ]
  },
  {
   "cell_type": "code",
   "execution_count": 84,
   "metadata": {},
   "outputs": [
    {
     "name": "stdout",
     "output_type": "stream",
     "text": [
      "Estimated equation is: ( -0.042789418134284864 ) X + ( 8501.304084011941 )\n"
     ]
    }
   ],
   "source": [
    "KmDriven_train=np.array(df['Km_driven'][-20:]).reshape(-1,1)\n",
    "SellPrice_train=np.array(df['Selling_price'][-20:]).reshape(-1,1)\n",
    "\n",
    "regr_car = LinearRegression().fit(KmDriven_train, SellPrice_train)\n",
    "\n",
    "# The estimated equation coefficients\n",
    "print('Estimated equation is: (',regr_car.coef_[0,0],') X + (',regr_car.intercept_[0],')')"
   ]
  },
  {
   "cell_type": "code",
   "execution_count": 85,
   "metadata": {},
   "outputs": [],
   "source": [
    "# Estimated equation is: ( -0.042789418134284864 ) X + ( 8501.304084011941 ). \n",
    "# It basicalymeans that for each X=1 km driven,your car looses 0.042 cents of value. \n",
    "# The basic value for anycar X=0 would be 8501.304084011941 : which is not true = explains the disparity."
   ]
  },
  {
   "cell_type": "markdown",
   "metadata": {},
   "source": [
    "Let's analyze the results using the tools we know. Is this a good result ?"
   ]
  },
  {
   "cell_type": "code",
   "execution_count": 119,
   "metadata": {},
   "outputs": [
    {
     "name": "stdout",
     "output_type": "stream",
     "text": [
      "Mean squared error: 3421.15\n",
      "Coefficient of determination: 0.04\n"
     ]
    },
    {
     "data": {
      "text/plain": [
       "(50, 1)"
      ]
     },
     "execution_count": 119,
     "metadata": {},
     "output_type": "execute_result"
    }
   ],
   "source": [
    "KmDriven_test=np.array(df['Km_driven'][-nbValuestest:]).reshape(-1,1)\n",
    "SellPrice_test=np.array(df['Selling_price'][-nbValuestest:]).reshape(-1,1)\n",
    "\n",
    "SellPrice_pred = regr_car.predict(KmDriven_test)\n",
    "\n",
    "# The mean squared error\n",
    "print('Mean squared error: %.2f'\n",
    "      % np.sqrt(mean_squared_error(SellPrice_test, SellPrice_pred)))\n",
    "\n",
    "# The coefficient of determination: 1 is perfect prediction\n",
    "print('Coefficient of determination: %.2f'\n",
    "      % r2_score(SellPrice_test, SellPrice_pred))\n",
    "KmDriven_test.shape"
   ]
  },
  {
   "cell_type": "markdown",
   "metadata": {},
   "source": [
    "That result is really poor."
   ]
  },
  {
   "cell_type": "code",
   "execution_count": 87,
   "metadata": {},
   "outputs": [
    {
     "data": {
      "image/png": "[encoded data removed]",
      "text/plain": [
       "<Figure size 432x288 with 1 Axes>"
      ]
     },
     "metadata": {
      "needs_background": "light"
     },
     "output_type": "display_data"
    }
   ],
   "source": [
    "plt.plot(KmDriven_test, SellPrice_pred, color='blue', linewidth=3, label=\"Predicted Model\")\n",
    "plt.scatter(df['Km_driven'],df['Selling_price'],  color='black', label=\"Test data\")\n",
    "plt.legend()\n",
    "plt.xlabel(\"km driven\")\n",
    "plt.ylabel(\"Selling price ($)\")\n",
    "plt.show()"
   ]
  },
  {
   "cell_type": "code",
   "execution_count": 88,
   "metadata": {},
   "outputs": [],
   "source": [
    "# Data Disparity = Poor results "
   ]
  },
  {
   "cell_type": "markdown",
   "metadata": {},
   "source": [
    "Filter the data by brand. Try with 'Honda' cars"
   ]
  },
  {
   "cell_type": "code",
   "execution_count": 89,
   "metadata": {},
   "outputs": [
    {
     "data": {
      "text/html": [
       "<div>\n",
       "<style scoped>\n",
       "    .dataframe tbody tr th:only-of-type {\n",
       "        vertical-align: middle;\n",
       "    }\n",
       "\n",
       "    .dataframe tbody tr th {\n",
       "        vertical-align: top;\n",
       "    }\n",
       "\n",
       "    .dataframe thead th {\n",
       "        text-align: right;\n",
       "    }\n",
       "</style>\n",
       "<table border=\"1\" class=\"dataframe\">\n",
       "  <thead>\n",
       "    <tr style=\"text-align: right;\">\n",
       "      <th></th>\n",
       "      <th>Car_Name</th>\n",
       "      <th>Year</th>\n",
       "      <th>Selling_price</th>\n",
       "      <th>Km_driven</th>\n",
       "      <th>Fuel</th>\n",
       "      <th>Seller_type</th>\n",
       "      <th>Transmission</th>\n",
       "      <th>Owner</th>\n",
       "      <th>mileage</th>\n",
       "      <th>engine</th>\n",
       "      <th>max_power</th>\n",
       "      <th>torque</th>\n",
       "      <th>seats</th>\n",
       "    </tr>\n",
       "  </thead>\n",
       "  <tbody>\n",
       "    <tr>\n",
       "      <th>2</th>\n",
       "      <td>Honda City 2017-2020 EXi</td>\n",
       "      <td>2006</td>\n",
       "      <td>2054.0</td>\n",
       "      <td>140000</td>\n",
       "      <td>Petrol</td>\n",
       "      <td>Individual</td>\n",
       "      <td>Manual</td>\n",
       "      <td>Third Owner</td>\n",
       "      <td>17.7 kmpl</td>\n",
       "      <td>1497 CC</td>\n",
       "      <td>78 bhp</td>\n",
       "      <td>12.7@ 2,700(kgm@ rpm)</td>\n",
       "      <td>5.0</td>\n",
       "    </tr>\n",
       "    <tr>\n",
       "      <th>21</th>\n",
       "      <td>Honda WR-V i-DTEC VX</td>\n",
       "      <td>2017</td>\n",
       "      <td>12350.0</td>\n",
       "      <td>50000</td>\n",
       "      <td>Diesel</td>\n",
       "      <td>Individual</td>\n",
       "      <td>Manual</td>\n",
       "      <td>First Owner</td>\n",
       "      <td>25.5 kmpl</td>\n",
       "      <td>1498 CC</td>\n",
       "      <td>98.6 bhp</td>\n",
       "      <td>200Nm@ 1750rpm</td>\n",
       "      <td>5.0</td>\n",
       "    </tr>\n",
       "    <tr>\n",
       "      <th>42</th>\n",
       "      <td>Honda City i VTEC VX</td>\n",
       "      <td>2018</td>\n",
       "      <td>12025.0</td>\n",
       "      <td>28900</td>\n",
       "      <td>Petrol</td>\n",
       "      <td>Dealer</td>\n",
       "      <td>Manual</td>\n",
       "      <td>First Owner</td>\n",
       "      <td>17.8 kmpl</td>\n",
       "      <td>1497 CC</td>\n",
       "      <td>117.3 bhp</td>\n",
       "      <td>145Nm@ 4600rpm</td>\n",
       "      <td>5.0</td>\n",
       "    </tr>\n",
       "    <tr>\n",
       "      <th>43</th>\n",
       "      <td>Honda City V MT</td>\n",
       "      <td>2013</td>\n",
       "      <td>5525.0</td>\n",
       "      <td>86300</td>\n",
       "      <td>Petrol</td>\n",
       "      <td>Dealer</td>\n",
       "      <td>Manual</td>\n",
       "      <td>First Owner</td>\n",
       "      <td>16.8 kmpl</td>\n",
       "      <td>1497 CC</td>\n",
       "      <td>116.3 bhp</td>\n",
       "      <td>146Nm@ 4800rpm</td>\n",
       "      <td>5.0</td>\n",
       "    </tr>\n",
       "    <tr>\n",
       "      <th>50</th>\n",
       "      <td>Honda Amaze S Diesel</td>\n",
       "      <td>2015</td>\n",
       "      <td>5525.0</td>\n",
       "      <td>49800</td>\n",
       "      <td>Diesel</td>\n",
       "      <td>Dealer</td>\n",
       "      <td>Manual</td>\n",
       "      <td>First Owner</td>\n",
       "      <td>24.7 kmpl</td>\n",
       "      <td>1498 CC</td>\n",
       "      <td>98.63 bhp</td>\n",
       "      <td>200Nm@ 1750rpm</td>\n",
       "      <td>5.0</td>\n",
       "    </tr>\n",
       "  </tbody>\n",
       "</table>\n",
       "</div>"
      ],
      "text/plain": [
       "                    Car_Name  Year  Selling_price  Km_driven    Fuel  \\\n",
       "2   Honda City 2017-2020 EXi  2006         2054.0     140000  Petrol   \n",
       "21      Honda WR-V i-DTEC VX  2017        12350.0      50000  Diesel   \n",
       "42      Honda City i VTEC VX  2018        12025.0      28900  Petrol   \n",
       "43           Honda City V MT  2013         5525.0      86300  Petrol   \n",
       "50      Honda Amaze S Diesel  2015         5525.0      49800  Diesel   \n",
       "\n",
       "   Seller_type Transmission        Owner    mileage   engine  max_power  \\\n",
       "2   Individual       Manual  Third Owner  17.7 kmpl  1497 CC     78 bhp   \n",
       "21  Individual       Manual  First Owner  25.5 kmpl  1498 CC   98.6 bhp   \n",
       "42      Dealer       Manual  First Owner  17.8 kmpl  1497 CC  117.3 bhp   \n",
       "43      Dealer       Manual  First Owner  16.8 kmpl  1497 CC  116.3 bhp   \n",
       "50      Dealer       Manual  First Owner  24.7 kmpl  1498 CC  98.63 bhp   \n",
       "\n",
       "                   torque  seats  \n",
       "2   12.7@ 2,700(kgm@ rpm)    5.0  \n",
       "21         200Nm@ 1750rpm    5.0  \n",
       "42         145Nm@ 4600rpm    5.0  \n",
       "43         146Nm@ 4800rpm    5.0  \n",
       "50         200Nm@ 1750rpm    5.0  "
      ]
     },
     "execution_count": 89,
     "metadata": {},
     "output_type": "execute_result"
    }
   ],
   "source": [
    "Honda=df[df['Car_Name'].str.contains('Honda')]\n",
    "Honda.head()"
   ]
  },
  {
   "cell_type": "code",
   "execution_count": 103,
   "metadata": {},
   "outputs": [
    {
     "name": "stdout",
     "output_type": "stream",
     "text": [
      "Estimated equation is: ( -0.0440203024461961 ) X + ( 10455.38916880673 )\n",
      "Mean squared error: 11099171.70\n",
      "Coefficient of determination: 0.22\n"
     ]
    }
   ],
   "source": [
    "Honda_KmDriven_train=np.array(Honda['Km_driven'][:-20]).reshape(-1,1)\n",
    "Honda_SellPrice_train=np.array(Honda['Selling_price'][:-20]).reshape(-1,1)\n",
    "\n",
    "regr_Honda = LinearRegression().fit(Honda_KmDriven_train, Honda_SellPrice_train)\n",
    "\n",
    "# The estimated equation coefficients\n",
    "print('Estimated equation is: (',regr_Honda.coef_[0,0],') X + (',regr_Honda.intercept_[0],')')\n",
    "\n",
    "Honda_KmDriven_test=np.array(Honda['Km_driven'][-20:]).reshape(-1,1)\n",
    "Honda_SellPrice_test=np.array(Honda['Selling_price'][:-20]).reshape(-1,1)\n",
    "\n",
    "Honda_SellPrice_pred = regr_Honda.predict(Honda_KmDriven_train)\n",
    "\n",
    "# The mean squared error\n",
    "print('Mean squared error: %.2f'\n",
    "      % mean_squared_error(Honda_SellPrice_test, Honda_SellPrice_pred))\n",
    "\n",
    "# The coefficient of determination: 1 is perfect prediction\n",
    "print('Coefficient of determination: %.2f'\n",
    "      % r2_score(Honda_SellPrice_test, Honda_SellPrice_pred))"
   ]
  },
  {
   "cell_type": "code",
   "execution_count": 139,
   "metadata": {},
   "outputs": [
    {
     "name": "stdout",
     "output_type": "stream",
     "text": [
      "Estimated equation is: ( -0.05551498516170921 ) X + ( 11637.325200742787 )\n",
      "Sqrt(Mean squared error): 3130.12\n",
      "Coefficient of determination: 0.38\n"
     ]
    },
    {
     "data": {
      "image/png": "[encoded data removed]",
      "text/plain": [
       "<Figure size 432x288 with 1 Axes>"
      ]
     },
     "metadata": {
      "needs_background": "light"
     },
     "output_type": "display_data"
    }
   ],
   "source": [
    "Honda_City=Honda.loc[Honda['Car_Name'].str.contains('City')]\n",
    "Honda_City.head()\n",
    "\n",
    "def CarDataKmPriceRegr(df,title,nbValuestest):\n",
    "    df_KmDriven_train=np.array(df['Km_driven'][:-nbValuestest]).reshape(-1,1)\n",
    "    df_SellPrice_train=np.array(df['Selling_price'][:-nbValuestest]).reshape(-1,1)\n",
    "\n",
    "    regr_df = LinearRegression().fit(df_KmDriven_train,df_SellPrice_train)\n",
    "\n",
    "    # The estimated equation coefficients\n",
    "    print('Estimated equation is: (',regr_df.coef_[0,0],') X + (',regr_df.intercept_[0],')')\n",
    "\n",
    "    df_KmDriven_test=np.array(df['Km_driven'][-nbValuestest:]).reshape(-1,1)\n",
    "    df_SellPrice_test=np.array(df['Selling_price'][-nbValuestest:]).reshape(-1,1)\n",
    "\n",
    "    df_SellPrice_pred = regr_df.predict(df_KmDriven_test)\n",
    "\n",
    "    # The mean squared error\n",
    "    print('Sqrt(Mean squared error): %.2f'\n",
    "       % np.sqrt(mean_squared_error(df_SellPrice_test,df_SellPrice_pred)))\n",
    "\n",
    "    # The coefficient of determination: 1 is perfect prediction\n",
    "    print('Coefficient of determination: %.2f'\n",
    "       % r2_score(df_SellPrice_test,df_SellPrice_pred))\n",
    "\n",
    "\n",
    "    plt.plot(df_KmDriven_test, df_SellPrice_pred, color='blue', linewidth=3, label=\"Predicted Model\")\n",
    "    plt.scatter(df['Km_driven'],df['Selling_price'],  color='black', label=\"Test data\")\n",
    "    plt.legend()\n",
    "    plt.xlabel(\"km driven\")\n",
    "    plt.ylabel(\"Selling price ($)\")\n",
    "    plt.title(title)\n",
    "    plt.show()\n",
    "    \n",
    "CarDataKmPriceRegr(Honda_City,'Honda City',50)"
   ]
  },
  {
   "cell_type": "code",
   "execution_count": 129,
   "metadata": {},
   "outputs": [
    {
     "name": "stdout",
     "output_type": "stream",
     "text": [
      "Estimated equation is: ( -0.05551498516170921 ) X + ( 11637.325200742787 )\n",
      "Sqrt(Mean squared error): 3130.12\n",
      "Coefficient of determination: 0.38\n"
     ]
    },
    {
     "data": {
      "image/png": "[encoded data removed]",
      "text/plain": [
       "<Figure size 432x288 with 1 Axes>"
      ]
     },
     "metadata": {
      "needs_background": "light"
     },
     "output_type": "display_data"
    }
   ],
   "source": [
    "CarDataKmPriceRegr(Honda_City,'Honda City',50)"
   ]
  },
  {
   "cell_type": "markdown",
   "metadata": {},
   "source": [
    "Find the different types of fuel and car seats number ? \n",
    "what is the difference when you buy a diesel car and a Petrol car ?"
   ]
  },
  {
   "cell_type": "code",
   "execution_count": 138,
   "metadata": {},
   "outputs": [
    {
     "name": "stdout",
     "output_type": "stream",
     "text": [
      "['Diesel' 'Petrol' 'LPG' 'CNG']\n",
      "[ 5.  4. nan  7.  8.  6.  9. 10. 14.  2.]\n"
     ]
    }
   ],
   "source": [
    "print(df['Fuel'].unique())\n",
    "print(df['seats'].unique())"
   ]
  },
  {
   "cell_type": "markdown",
   "metadata": {},
   "source": [
    "Imagine you have a big family and you want to have a car which has at least 6 seats, no more than 50 000 kms driven and that uses Petrol. What would be the price of that car ?"
   ]
  },
  {
   "cell_type": "code",
   "execution_count": null,
   "metadata": {},
   "outputs": [],
   "source": [
    "CarDataKmPriceRegr(#To be completed)"
   ]
  },
  {
   "cell_type": "markdown",
   "metadata": {},
   "source": [
    "## Second exercise\n",
    "\n",
    "What is the average km driven per year ?"
   ]
  },
  {
   "cell_type": "code",
   "execution_count": null,
   "metadata": {},
   "outputs": [],
   "source": [
    "#To be completed"
   ]
  },
  {
   "cell_type": "markdown",
   "metadata": {},
   "source": [
    "# Underfitting and Overfitting\n",
    "\n",
    "## Definitions\n",
    "\n",
    "**Underfitting** : Underfitting happens when a machine learning model is not complex enough to accurately capture relationships between a dataset’s features and a target variable. An underfitted model results in problematic or erroneous outcomes on new data, or data that it wasn’t trained on, and often performs poorly even on training data.\n",
    "\n",
    "Using underfitted models for decision-making could be costly for businesses. For example, an underfitted model may suggest that you can always make better sales by spending more on marketing when in fact the model fails to capture a saturation effect (at some point, sales will flatten out no matter how much more you spend on marketing). If your business is relying on that model to determine your marketing budget, you will overspend on marketing.\n",
    "\n",
    "**Overfitting** : Overfitting, the counterpart of underfitting, happens when a machine learning model has become too attuned to the data on which it was trained and therefore loses its applicability to any other dataset. A model is overfitted when it is so specific to the original data that trying to apply it to data collected in the future would result in problematic or erroneous outcomes and therefore less-than-optimal decisions.\n",
    "\n",
    "Overfitting causes the model to misrepresent the data from which it learned. An overfitted model will be less accurate on new, similar data than a model which is more generally fitted, but the overfitted one will appear to have a higher accuracy when you apply it to the training data. With no protection against overfitting, model developers might train and deploy a model they think is highly accurate, when in fact it will underperform in production when given new data.\n",
    "\n",
    "Deploying an overfitted model can cause all kinds of problems. For example, if you think your model is 95% accurate in predicting the likelihood of loan default when in reality it is overfitted and has an accuracy somewhere closer to 60%, applying it to future loan decisions will result in the loss of business that would otherwise have been profitable and will result in more dissatisfied customers.\n",
    "\n",
    " <img src=https://3gp10c1vpy442j63me73gy3s-wpengine.netdna-ssl.com/wp-content/uploads/2018/03/Screen-Shot-2018-03-22-at-11.22.15-AM-e1526498075543.png>\n",
    "(Image from https://www.datarobot.com/)\n",
    "\n",
    "## Example\n",
    "\n",
    "This example demonstrates the problems of underfitting and overfitting and\n",
    "how we can use linear regression with polynomial features to approximate\n",
    "nonlinear functions. The plot shows the function that we want to approximate,\n",
    "which is a part of the cosine function. In addition, the samples from the\n",
    "real function and the approximations of different models are displayed. The\n",
    "models have polynomial features of different degrees. We can see that a\n",
    "linear function (polynomial with degree 1) is not sufficient to fit the\n",
    "training samples. This is called **underfitting**. A polynomial of degree 4\n",
    "approximates the true function almost perfectly. However, for higher degrees\n",
    "the model will **overfit** the training data, i.e. it learns the noise of the\n",
    "training data.\n",
    "\n",
    "**overfitting** and **underfitting** can be evaluated by using\n",
    "cross-validation. We calculate the mean squared error (MSE) on the validation\n",
    "set, the higher, the less likely the model generalizes correctly from the\n",
    "training data.\n",
    "\n",
    "### Functions used for the example\n",
    "\n",
    "`Pipeline` is a function that allows to execute a sequence of transforms and a final estimator. It is designed for advanced machine learning projects. Intermediate steps of the pipeline must be ‘transforms’, that is, objects that have the `fit` and `transform` methods. The final estimator has to have a `fit` method. The purpose of the pipeline is to assemble several steps that can be cross-validated together while setting different parameters. Here it is used to combine the `Polynomial Feature` and the `Linear regression`. Try adding `,verbose=True` at the end of the function call to see what is done during the processing.\n",
    "\n",
    "`PolynomialFeatures` generates polynomial and interaction features. It generates a new feature matrix consisting of all polynomial combinations of the features with degree less than or equal to the specified degree. For example, if an input sample is one dimensional of the form $[X]$, it gives the result as a polynom $[1,X,X^2,...,X^n]$. If an input sample is two dimensional and of the form $[a, b]$, the degree-2 polynomial features are $[1, a, b, a^2, ab, b^2]$ (all the coefficients of the $(a+b)^n$ pair). See two examples below.\n",
    "\n",
    "`cross_val_score` evaluates a score by cross-validation. Here `pipeline` is the model to be evaluated, `X[:, np.newaxis]` is the input dataset, `y` are the target values, `scoring` defines the function to be used to compute the score, `cv` is the amount of time the data is cross-validated. For example, `cv=5` computes the score 5 consecutive times with different splits of the input data each time.\n",
    "\n",
    "`np.newaxis` is used to add one dimension to the array. For example, it changes the shape from one numpy array from (X,) to (X,1). See example below."
   ]
  },
  {
   "cell_type": "code",
   "execution_count": null,
   "metadata": {},
   "outputs": [],
   "source": [
    "from sklearn.preprocessing import PolynomialFeatures\n",
    "import numpy as np\n",
    "\n",
    "X = np.arange(3).reshape(3, 1)\n",
    "print(X)\n",
    "poly = PolynomialFeatures(3)\n",
    "poly.fit_transform(X)"
   ]
  },
  {
   "cell_type": "code",
   "execution_count": null,
   "metadata": {},
   "outputs": [],
   "source": [
    "X = np.arange(6).reshape(3, 2)\n",
    "print(X)\n",
    "poly = PolynomialFeatures(3)\n",
    "poly.fit_transform(X)"
   ]
  },
  {
   "cell_type": "code",
   "execution_count": null,
   "metadata": {},
   "outputs": [],
   "source": [
    "a=np.arange(3).reshape(3, )\n",
    "print(a.shape)\n",
    "a=a[:, np.newaxis]\n",
    "print(a.shape)\n",
    "a=a[:, np.newaxis]\n",
    "print(a.shape)"
   ]
  },
  {
   "cell_type": "markdown",
   "metadata": {},
   "source": [
    "### Example\n",
    "\n",
    "On the left: The figure shows an underfitted model\n",
    "\n",
    "On the middle : The figure shows a well fitted model\n",
    "\n",
    "On the right : The figure shows an overfitted model"
   ]
  },
  {
   "cell_type": "code",
   "execution_count": null,
   "metadata": {},
   "outputs": [],
   "source": [
    "from sklearn.pipeline import Pipeline\n",
    "from sklearn.preprocessing import PolynomialFeatures\n",
    "from sklearn.model_selection import cross_val_score\n",
    "\n",
    "def true_fun(X):\n",
    "    return np.cos(1.5 * np.pi * X)\n",
    "\n",
    "np.random.seed(0)\n",
    "\n",
    "n_samples = 30\n",
    "degrees = [1, 4, 15]\n",
    "\n",
    "X = np.sort(np.random.rand(n_samples))\n",
    "y = true_fun(X) + np.random.randn(n_samples) * 0.1\n",
    "\n",
    "plt.figure(figsize=(14, 5))\n",
    "for i in range(len(degrees)):\n",
    "    ax = plt.subplot(1, len(degrees), i + 1)\n",
    "    plt.setp(ax, xticks=(), yticks=())\n",
    "\n",
    "    polynomial_features = PolynomialFeatures(degree=degrees[i],\n",
    "                                             include_bias=False)\n",
    "    linear_regression = LinearRegression()\n",
    "    pipeline = Pipeline([(\"polynomial_features\", polynomial_features),\n",
    "                         (\"linear_regression\", linear_regression)])\n",
    "    pipeline.fit(X[:, np.newaxis], y)\n",
    "\n",
    "    # Evaluate the models using crossvalidation\n",
    "    scores = cross_val_score(pipeline, X[:, np.newaxis], y,\n",
    "                             scoring=\"neg_mean_squared_error\", cv=10)\n",
    "\n",
    "    X_test = np.linspace(0, 1, 100)\n",
    "    plt.plot(X_test, pipeline.predict(X_test[:, np.newaxis]), label=\"Model\")\n",
    "    plt.plot(X_test, true_fun(X_test), label=\"True function\")\n",
    "    plt.scatter(X, y, edgecolor='b', s=20, label=\"Samples\")\n",
    "    plt.xlabel(\"x\")\n",
    "    plt.ylabel(\"y\")\n",
    "    plt.xlim((0, 1))\n",
    "    plt.ylim((-2, 2))\n",
    "    plt.legend(loc=\"best\")\n",
    "    plt.title(\"Degree {}\\nMSE = {:.2e}(+/- {:.2e})\".format(\n",
    "        degrees[i], -scores.mean(), scores.std()))\n",
    "plt.show()"
   ]
  },
  {
   "cell_type": "code",
   "execution_count": null,
   "metadata": {},
   "outputs": [],
   "source": []
  },
  {
   "cell_type": "code",
   "execution_count": null,
   "metadata": {},
   "outputs": [],
   "source": []
  }
 ],
 "metadata": {
  "kernelspec": {
   "display_name": "Python 3",
   "language": "python",
   "name": "python3"
  },
  "language_info": {
   "codemirror_mode": {
    "name": "ipython",
    "version": 3
   },
   "file_extension": ".py",
   "mimetype": "text/x-python",
   "name": "python",
   "nbconvert_exporter": "python",
   "pygments_lexer": "ipython3",
   "version": "3.7.6"
  }
 },
 "nbformat": 4,
 "nbformat_minor": 4
}
